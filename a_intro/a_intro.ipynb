{
 "cells": [
  {
   "cell_type": "markdown",
   "id": "a99a496b-a54c-4d47-8797-a9da0f96f942",
   "metadata": {},
   "source": [
    "### Data Analysis\n",
    "- 원시(원본 그대로) 데이터 분석을 하여 인사이트(가시성 증가 미 깊은 이해)로 변환하는 작업이다.\n",
    "- 문제를 해결하지 위해 데이터를 사용해서 흐름 및 방향을 찾는 기술이다.\n",
    "- 데이터 분석을 통해 비지니스 프로세스를 구성하고, 의사결정을 개선하며, 비지니스 성장을 증진할 수 있다.\n",
    "\n",
    "비즈니스 프로세스\n",
    "\n",
    "\n",
    "<img src=\"./images/architecture.png\" width=\"900px\" style=\"margin-left: 10px;\">\n",
    "** <sub>ETL = Extract(추출), Transform(변환), Load(적재)를 의미한다. 여기저기 흩어진 데이터를 하나로 모으기 위한 결합과정이다.\n",
    "\n",
    "3가지 단계를 통해 모인 데이터를 DATA WAREHOUSE라고 한다.\n",
    "\n",
    "스키마 : 데이터 베이스의 구조와 제약조건(not null, integerfeild 등)\n",
    "RDB => relation data base\n",
    "NoSQL => 스키마가 없는 SQL : 속도에 중점을 둔 SQL (채팅 등에 사용)\n",
    "object 저장소 => serializer을 사용해서 문자열로 저장하는 것(캐시)</sub>"
   ]
  },
  {
   "cell_type": "markdown",
   "id": "9e5be091-4951-4c3b-b236-7179bf42c58f",
   "metadata": {},
   "source": [
    "### 기초 통계(Basic statistics)\n",
    "📌 통계는 아직 발생하지 않은 일을 예측하기 위해 사용한다.\n",
    "- 통계학을 공부하는 데에 있어 필요한 기본 개념이고,\n",
    "  수량적인 비교를 기초로 많은 사실을 관찰하고 처리하는 방법을 연구하는 학문이다.\n",
    "- 불균형 데이터를 대상으로 규칙성과 불규칙성을 발견한 뒤 실생활에 적용할 수 있다.\n",
    "<img src=\"./images/statistics01.png\" style=\"margin-top: 20px\">"
   ]
  },
  {
   "cell_type": "markdown",
   "id": "86baf726-8fa9-4ab4-9ab0-4f9001e9877a",
   "metadata": {},
   "source": [
    "#### 변량(Variable)\n",
    "- 자료의 수치를 변량이라고 하며, 이는 데이터의 값을 의미한다."
   ]
  },
  {
   "cell_type": "code",
   "execution_count": 10,
   "id": "e224201c-f0b7-4ef6-b40e-80fef0657236",
   "metadata": {},
   "outputs": [
    {
     "data": {
      "text/html": [
       "<div>\n",
       "<style scoped>\n",
       "    .dataframe tbody tr th:only-of-type {\n",
       "        vertical-align: middle;\n",
       "    }\n",
       "\n",
       "    .dataframe tbody tr th {\n",
       "        vertical-align: top;\n",
       "    }\n",
       "\n",
       "    .dataframe thead th {\n",
       "        text-align: right;\n",
       "    }\n",
       "</style>\n",
       "<table border=\"1\" class=\"dataframe\">\n",
       "  <thead>\n",
       "    <tr style=\"text-align: right;\">\n",
       "      <th></th>\n",
       "      <th>서울</th>\n",
       "      <th>경기</th>\n",
       "      <th>인천</th>\n",
       "      <th>광주</th>\n",
       "      <th>대구</th>\n",
       "      <th>부산</th>\n",
       "      <th>전주</th>\n",
       "      <th>강릉</th>\n",
       "      <th>울산</th>\n",
       "      <th>수원</th>\n",
       "    </tr>\n",
       "  </thead>\n",
       "  <tbody>\n",
       "    <tr>\n",
       "      <th>0</th>\n",
       "      <td>170</td>\n",
       "      <td>164</td>\n",
       "      <td>172</td>\n",
       "      <td>158</td>\n",
       "      <td>174</td>\n",
       "      <td>178</td>\n",
       "      <td>166</td>\n",
       "      <td>178</td>\n",
       "      <td>167</td>\n",
       "      <td>155</td>\n",
       "    </tr>\n",
       "    <tr>\n",
       "      <th>1</th>\n",
       "      <td>162</td>\n",
       "      <td>187</td>\n",
       "      <td>188</td>\n",
       "      <td>170</td>\n",
       "      <td>175</td>\n",
       "      <td>180</td>\n",
       "      <td>158</td>\n",
       "      <td>185</td>\n",
       "      <td>161</td>\n",
       "      <td>153</td>\n",
       "    </tr>\n",
       "    <tr>\n",
       "      <th>2</th>\n",
       "      <td>152</td>\n",
       "      <td>154</td>\n",
       "      <td>157</td>\n",
       "      <td>171</td>\n",
       "      <td>185</td>\n",
       "      <td>179</td>\n",
       "      <td>169</td>\n",
       "      <td>151</td>\n",
       "      <td>162</td>\n",
       "      <td>157</td>\n",
       "    </tr>\n",
       "    <tr>\n",
       "      <th>3</th>\n",
       "      <td>153</td>\n",
       "      <td>158</td>\n",
       "      <td>166</td>\n",
       "      <td>169</td>\n",
       "      <td>187</td>\n",
       "      <td>170</td>\n",
       "      <td>153</td>\n",
       "      <td>158</td>\n",
       "      <td>172</td>\n",
       "      <td>159</td>\n",
       "    </tr>\n",
       "    <tr>\n",
       "      <th>4</th>\n",
       "      <td>186</td>\n",
       "      <td>172</td>\n",
       "      <td>164</td>\n",
       "      <td>179</td>\n",
       "      <td>160</td>\n",
       "      <td>187</td>\n",
       "      <td>184</td>\n",
       "      <td>189</td>\n",
       "      <td>165</td>\n",
       "      <td>175</td>\n",
       "    </tr>\n",
       "    <tr>\n",
       "      <th>5</th>\n",
       "      <td>159</td>\n",
       "      <td>181</td>\n",
       "      <td>174</td>\n",
       "      <td>174</td>\n",
       "      <td>188</td>\n",
       "      <td>151</td>\n",
       "      <td>172</td>\n",
       "      <td>186</td>\n",
       "      <td>185</td>\n",
       "      <td>172</td>\n",
       "    </tr>\n",
       "    <tr>\n",
       "      <th>6</th>\n",
       "      <td>166</td>\n",
       "      <td>170</td>\n",
       "      <td>167</td>\n",
       "      <td>153</td>\n",
       "      <td>179</td>\n",
       "      <td>159</td>\n",
       "      <td>170</td>\n",
       "      <td>185</td>\n",
       "      <td>171</td>\n",
       "      <td>164</td>\n",
       "    </tr>\n",
       "    <tr>\n",
       "      <th>7</th>\n",
       "      <td>180</td>\n",
       "      <td>184</td>\n",
       "      <td>157</td>\n",
       "      <td>152</td>\n",
       "      <td>151</td>\n",
       "      <td>155</td>\n",
       "      <td>174</td>\n",
       "      <td>185</td>\n",
       "      <td>184</td>\n",
       "      <td>170</td>\n",
       "    </tr>\n",
       "    <tr>\n",
       "      <th>8</th>\n",
       "      <td>168</td>\n",
       "      <td>169</td>\n",
       "      <td>160</td>\n",
       "      <td>163</td>\n",
       "      <td>167</td>\n",
       "      <td>163</td>\n",
       "      <td>175</td>\n",
       "      <td>151</td>\n",
       "      <td>152</td>\n",
       "      <td>161</td>\n",
       "    </tr>\n",
       "    <tr>\n",
       "      <th>9</th>\n",
       "      <td>176</td>\n",
       "      <td>151</td>\n",
       "      <td>172</td>\n",
       "      <td>187</td>\n",
       "      <td>175</td>\n",
       "      <td>167</td>\n",
       "      <td>179</td>\n",
       "      <td>180</td>\n",
       "      <td>164</td>\n",
       "      <td>160</td>\n",
       "    </tr>\n",
       "  </tbody>\n",
       "</table>\n",
       "</div>"
      ],
      "text/plain": [
       "    서울   경기   인천   광주   대구   부산   전주   강릉   울산   수원\n",
       "0  170  164  172  158  174  178  166  178  167  155\n",
       "1  162  187  188  170  175  180  158  185  161  153\n",
       "2  152  154  157  171  185  179  169  151  162  157\n",
       "3  153  158  166  169  187  170  153  158  172  159\n",
       "4  186  172  164  179  160  187  184  189  165  175\n",
       "5  159  181  174  174  188  151  172  186  185  172\n",
       "6  166  170  167  153  179  159  170  185  171  164\n",
       "7  180  184  157  152  151  155  174  185  184  170\n",
       "8  168  169  160  163  167  163  175  151  152  161\n",
       "9  176  151  172  187  175  167  179  180  164  160"
      ]
     },
     "metadata": {},
     "output_type": "display_data"
    }
   ],
   "source": [
    "# 지역별 총 100명의 키 생성\n",
    "import pandas as pd\n",
    "import numpy as np\n",
    "\n",
    "df = pd.DataFrame(np.random.randint(151,190,size=(10,10)),\\\n",
    "             columns=\"서울,경기,인천,광주,대구,부산,전주,강릉,울산,수원\".split(\",\"))\n",
    "display(df)"
   ]
  },
  {
   "cell_type": "code",
   "execution_count": 13,
   "id": "8ca33737-828b-4e3e-997f-054ecba45c91",
   "metadata": {},
   "outputs": [
    {
     "name": "stdout",
     "output_type": "stream",
     "text": [
      "171 µs ± 38.1 µs per loop (mean ± std. dev. of 10 runs, 100 loops each)\n"
     ]
    }
   ],
   "source": [
    "%%timeit -n 100 -r 10\n",
    "\n",
    "import pandas as pd\n",
    "import random\n",
    "\n",
    "df = pd.DataFrame([[random.randrange(151, 190) for _ in range(10)] for _ in range(10)], \\\n",
    "                  columns=\"서울,경기,인천,광주,대구,부산,전주,강릉,울산,수원\".split(\",\"))"
   ]
  },
  {
   "cell_type": "code",
   "execution_count": 12,
   "id": "c9ef38e2-aa26-43f0-ae2a-f0b2595c963d",
   "metadata": {},
   "outputs": [
    {
     "name": "stdout",
     "output_type": "stream",
     "text": [
      "40.8 µs ± 6.08 µs per loop (mean ± std. dev. of 10 runs, 100 loops each)\n"
     ]
    }
   ],
   "source": [
    "%%timeit -n 100 -r 10\n",
    "\n",
    "# 지역별 총 100명의 키 생성\n",
    "import pandas as pd\n",
    "import numpy as np\n",
    "\n",
    "df = pd.DataFrame(np.random.randint(151,190,size=(10,10)),\\\n",
    "             columns=\"서울,경기,인천,광주,대구,부산,전주,강릉,울산,수원\".split(\",\"))"
   ]
  },
  {
   "cell_type": "markdown",
   "id": "4a12fdbb-041c-4711-8be9-e73d1fb36cc8",
   "metadata": {},
   "source": [
    "#### 계급(Class)\n",
    "-  변량을 일정 간격으로 나눈 구간을 의미한다.\n",
    "-  변량의 최소값과 최대값을 잘 고려해서 계급을 정해야한다.\n",
    "-  예) (150,160]의 계급일 경우 160까지 속한다. 즉 151~160까지 이다. (미포함, 포함)"
   ]
  },
  {
   "cell_type": "code",
   "execution_count": 16,
   "id": "fe5d67d5-df76-4700-8bcc-c9f748d2183d",
   "metadata": {},
   "outputs": [
    {
     "data": {
      "text/html": [
       "<div>\n",
       "<style scoped>\n",
       "    .dataframe tbody tr th:only-of-type {\n",
       "        vertical-align: middle;\n",
       "    }\n",
       "\n",
       "    .dataframe tbody tr th {\n",
       "        vertical-align: top;\n",
       "    }\n",
       "\n",
       "    .dataframe thead th {\n",
       "        text-align: right;\n",
       "    }\n",
       "</style>\n",
       "<table border=\"1\" class=\"dataframe\">\n",
       "  <thead>\n",
       "    <tr style=\"text-align: right;\">\n",
       "      <th></th>\n",
       "      <th>서울</th>\n",
       "      <th>계급</th>\n",
       "    </tr>\n",
       "  </thead>\n",
       "  <tbody>\n",
       "    <tr>\n",
       "      <th>0</th>\n",
       "      <td>170</td>\n",
       "      <td>(160, 170]</td>\n",
       "    </tr>\n",
       "    <tr>\n",
       "      <th>1</th>\n",
       "      <td>162</td>\n",
       "      <td>(160, 170]</td>\n",
       "    </tr>\n",
       "    <tr>\n",
       "      <th>2</th>\n",
       "      <td>152</td>\n",
       "      <td>(150, 160]</td>\n",
       "    </tr>\n",
       "    <tr>\n",
       "      <th>3</th>\n",
       "      <td>153</td>\n",
       "      <td>(150, 160]</td>\n",
       "    </tr>\n",
       "    <tr>\n",
       "      <th>4</th>\n",
       "      <td>186</td>\n",
       "      <td>(180, 190]</td>\n",
       "    </tr>\n",
       "    <tr>\n",
       "      <th>5</th>\n",
       "      <td>159</td>\n",
       "      <td>(150, 160]</td>\n",
       "    </tr>\n",
       "    <tr>\n",
       "      <th>6</th>\n",
       "      <td>166</td>\n",
       "      <td>(160, 170]</td>\n",
       "    </tr>\n",
       "    <tr>\n",
       "      <th>7</th>\n",
       "      <td>180</td>\n",
       "      <td>(170, 180]</td>\n",
       "    </tr>\n",
       "    <tr>\n",
       "      <th>8</th>\n",
       "      <td>168</td>\n",
       "      <td>(160, 170]</td>\n",
       "    </tr>\n",
       "    <tr>\n",
       "      <th>9</th>\n",
       "      <td>176</td>\n",
       "      <td>(170, 180]</td>\n",
       "    </tr>\n",
       "  </tbody>\n",
       "</table>\n",
       "</div>"
      ],
      "text/plain": [
       "    서울          계급\n",
       "0  170  (160, 170]\n",
       "1  162  (160, 170]\n",
       "2  152  (150, 160]\n",
       "3  153  (150, 160]\n",
       "4  186  (180, 190]\n",
       "5  159  (150, 160]\n",
       "6  166  (160, 170]\n",
       "7  180  (170, 180]\n",
       "8  168  (160, 170]\n",
       "9  176  (170, 180]"
      ]
     },
     "execution_count": 16,
     "metadata": {},
     "output_type": "execute_result"
    }
   ],
   "source": [
    "df_seoul = df['서울']\n",
    "df_class = pd.cut(df_seoul, bins=[150,160,170,180,190])\n",
    "df_seoul_class = pd.DataFrame({'서울':df_seoul,'계급':df_class})\n",
    "df_seoul_class"
   ]
  },
  {
   "cell_type": "markdown",
   "id": "dc9b44c8-0f3a-4c8d-b313-5c117dfdafae",
   "metadata": {},
   "source": [
    "#### 도수 (Frequency)\n",
    "- 각 **계급**에 속하는 변량의 개수를 의미한다."
   ]
  },
  {
   "cell_type": "code",
   "execution_count": 19,
   "id": "d59ab30f-fbf7-4320-b634-f19b3a5cda07",
   "metadata": {
    "scrolled": true
   },
   "outputs": [
    {
     "data": {
      "text/html": [
       "<div>\n",
       "<style scoped>\n",
       "    .dataframe tbody tr th:only-of-type {\n",
       "        vertical-align: middle;\n",
       "    }\n",
       "\n",
       "    .dataframe tbody tr th {\n",
       "        vertical-align: top;\n",
       "    }\n",
       "\n",
       "    .dataframe thead th {\n",
       "        text-align: right;\n",
       "    }\n",
       "</style>\n",
       "<table border=\"1\" class=\"dataframe\">\n",
       "  <thead>\n",
       "    <tr style=\"text-align: right;\">\n",
       "      <th></th>\n",
       "      <th>서울</th>\n",
       "    </tr>\n",
       "    <tr>\n",
       "      <th>계급</th>\n",
       "      <th></th>\n",
       "    </tr>\n",
       "  </thead>\n",
       "  <tbody>\n",
       "    <tr>\n",
       "      <th>(150, 160]</th>\n",
       "      <td>3</td>\n",
       "    </tr>\n",
       "    <tr>\n",
       "      <th>(160, 170]</th>\n",
       "      <td>4</td>\n",
       "    </tr>\n",
       "    <tr>\n",
       "      <th>(170, 180]</th>\n",
       "      <td>2</td>\n",
       "    </tr>\n",
       "    <tr>\n",
       "      <th>(180, 190]</th>\n",
       "      <td>1</td>\n",
       "    </tr>\n",
       "  </tbody>\n",
       "</table>\n",
       "</div>"
      ],
      "text/plain": [
       "            서울\n",
       "계급            \n",
       "(150, 160]   3\n",
       "(160, 170]   4\n",
       "(170, 180]   2\n",
       "(180, 190]   1"
      ]
     },
     "execution_count": 19,
     "metadata": {},
     "output_type": "execute_result"
    }
   ],
   "source": [
    "df_seoul_class.groupby('계급',observed=True).count()\n",
    "# observed=False : 값이 0인 변량도 보여주는 것"
   ]
  },
  {
   "cell_type": "markdown",
   "id": "142162e2-83df-4f15-896d-72f881f801fc",
   "metadata": {},
   "source": [
    "#### 상대 도수 (Relative Frequency)\n",
    "- 각 계급에 속하는 변량의 비율을 의미한다."
   ]
  },
  {
   "cell_type": "code",
   "execution_count": 21,
   "id": "ae5682a6-c4c7-4e8c-88e3-0737ae6bc827",
   "metadata": {},
   "outputs": [
    {
     "data": {
      "text/html": [
       "<div>\n",
       "<style scoped>\n",
       "    .dataframe tbody tr th:only-of-type {\n",
       "        vertical-align: middle;\n",
       "    }\n",
       "\n",
       "    .dataframe tbody tr th {\n",
       "        vertical-align: top;\n",
       "    }\n",
       "\n",
       "    .dataframe thead th {\n",
       "        text-align: right;\n",
       "    }\n",
       "</style>\n",
       "<table border=\"1\" class=\"dataframe\">\n",
       "  <thead>\n",
       "    <tr style=\"text-align: right;\">\n",
       "      <th></th>\n",
       "      <th>서울</th>\n",
       "    </tr>\n",
       "    <tr>\n",
       "      <th>계급</th>\n",
       "      <th></th>\n",
       "    </tr>\n",
       "  </thead>\n",
       "  <tbody>\n",
       "    <tr>\n",
       "      <th>(150, 160]</th>\n",
       "      <td>0.03</td>\n",
       "    </tr>\n",
       "    <tr>\n",
       "      <th>(160, 170]</th>\n",
       "      <td>0.04</td>\n",
       "    </tr>\n",
       "    <tr>\n",
       "      <th>(170, 180]</th>\n",
       "      <td>0.02</td>\n",
       "    </tr>\n",
       "    <tr>\n",
       "      <th>(180, 190]</th>\n",
       "      <td>0.01</td>\n",
       "    </tr>\n",
       "  </tbody>\n",
       "</table>\n",
       "</div>"
      ],
      "text/plain": [
       "              서울\n",
       "계급              \n",
       "(150, 160]  0.03\n",
       "(160, 170]  0.04\n",
       "(170, 180]  0.02\n",
       "(180, 190]  0.01"
      ]
     },
     "execution_count": 21,
     "metadata": {},
     "output_type": "execute_result"
    }
   ],
   "source": [
    "df_seoul_class.groupby('계급', observed=False).count().apply(lambda x: x/100)"
   ]
  },
  {
   "cell_type": "markdown",
   "id": "8ba46d45-5244-4ade-92c5-9057a2cbf7c6",
   "metadata": {},
   "source": [
    "#### 도수 분포표 (Frequency Table)\n",
    "- 주어진 자료를 계급별로 나눈 뒤 각 계급에 속하는 도수 및 상대 도수를 조사한 표이다.\n",
    "- 구간 별 분포를 한 번에 알아 보기 좋지만 계급별 각 변량의 정확한 값이 생략되어 있다."
   ]
  },
  {
   "cell_type": "code",
   "execution_count": 24,
   "id": "3488e21f-4756-4438-9b3c-bb24f4ade9bb",
   "metadata": {},
   "outputs": [
    {
     "data": {
      "text/html": [
       "<div>\n",
       "<style scoped>\n",
       "    .dataframe tbody tr th:only-of-type {\n",
       "        vertical-align: middle;\n",
       "    }\n",
       "\n",
       "    .dataframe tbody tr th {\n",
       "        vertical-align: top;\n",
       "    }\n",
       "\n",
       "    .dataframe thead th {\n",
       "        text-align: right;\n",
       "    }\n",
       "</style>\n",
       "<table border=\"1\" class=\"dataframe\">\n",
       "  <thead>\n",
       "    <tr style=\"text-align: right;\">\n",
       "      <th></th>\n",
       "      <th>도수</th>\n",
       "      <th>상대도수</th>\n",
       "    </tr>\n",
       "    <tr>\n",
       "      <th>계급</th>\n",
       "      <th></th>\n",
       "      <th></th>\n",
       "    </tr>\n",
       "  </thead>\n",
       "  <tbody>\n",
       "    <tr>\n",
       "      <th>(150, 160]</th>\n",
       "      <td>3</td>\n",
       "      <td>0.03</td>\n",
       "    </tr>\n",
       "    <tr>\n",
       "      <th>(160, 170]</th>\n",
       "      <td>4</td>\n",
       "      <td>0.04</td>\n",
       "    </tr>\n",
       "    <tr>\n",
       "      <th>(170, 180]</th>\n",
       "      <td>2</td>\n",
       "      <td>0.02</td>\n",
       "    </tr>\n",
       "    <tr>\n",
       "      <th>(180, 190]</th>\n",
       "      <td>1</td>\n",
       "      <td>0.01</td>\n",
       "    </tr>\n",
       "  </tbody>\n",
       "</table>\n",
       "</div>"
      ],
      "text/plain": [
       "            도수  상대도수\n",
       "계급                  \n",
       "(150, 160]   3  0.03\n",
       "(160, 170]   4  0.04\n",
       "(170, 180]   2  0.02\n",
       "(180, 190]   1  0.01"
      ]
     },
     "metadata": {},
     "output_type": "display_data"
    }
   ],
   "source": [
    "freq_df = pd.DataFrame({\"도수\":df_seoul_class.groupby('계급', observed=False).count()['서울'], \\\n",
    "              \"상대도수\": df_seoul_class.groupby('계급', observed=False).count().apply(lambda x: x/100)[\"서울\"]})\n",
    "display(freq_df)"
   ]
  },
  {
   "cell_type": "code",
   "execution_count": 26,
   "id": "0cf53ff6-21be-46c1-a45a-263cd202b74e",
   "metadata": {},
   "outputs": [
    {
     "data": {
      "text/html": [
       "<div>\n",
       "<style scoped>\n",
       "    .dataframe tbody tr th:only-of-type {\n",
       "        vertical-align: middle;\n",
       "    }\n",
       "\n",
       "    .dataframe tbody tr th {\n",
       "        vertical-align: top;\n",
       "    }\n",
       "\n",
       "    .dataframe thead th {\n",
       "        text-align: right;\n",
       "    }\n",
       "</style>\n",
       "<table border=\"1\" class=\"dataframe\">\n",
       "  <thead>\n",
       "    <tr style=\"text-align: right;\">\n",
       "      <th></th>\n",
       "      <th>계급</th>\n",
       "      <th>도수</th>\n",
       "      <th>상대도수</th>\n",
       "    </tr>\n",
       "  </thead>\n",
       "  <tbody>\n",
       "    <tr>\n",
       "      <th>0</th>\n",
       "      <td>(150, 160]</td>\n",
       "      <td>3</td>\n",
       "      <td>0.03</td>\n",
       "    </tr>\n",
       "    <tr>\n",
       "      <th>1</th>\n",
       "      <td>(160, 170]</td>\n",
       "      <td>4</td>\n",
       "      <td>0.04</td>\n",
       "    </tr>\n",
       "    <tr>\n",
       "      <th>2</th>\n",
       "      <td>(170, 180]</td>\n",
       "      <td>2</td>\n",
       "      <td>0.02</td>\n",
       "    </tr>\n",
       "    <tr>\n",
       "      <th>3</th>\n",
       "      <td>(180, 190]</td>\n",
       "      <td>1</td>\n",
       "      <td>0.01</td>\n",
       "    </tr>\n",
       "  </tbody>\n",
       "</table>\n",
       "</div>"
      ],
      "text/plain": [
       "           계급  도수  상대도수\n",
       "0  (150, 160]   3  0.03\n",
       "1  (160, 170]   4  0.04\n",
       "2  (170, 180]   2  0.02\n",
       "3  (180, 190]   1  0.01"
      ]
     },
     "execution_count": 26,
     "metadata": {},
     "output_type": "execute_result"
    }
   ],
   "source": [
    "freq_df.reset_index(drop=False)\n",
    "# drop => 기존 인덱스의 사용 유무 (False면 기존 인덱스는 칼럼으로 들어감)"
   ]
  },
  {
   "cell_type": "markdown",
   "id": "851f2d28-0907-4cee-a629-52dec3665dd0",
   "metadata": {},
   "source": [
    "#### 히스토그램 (Histogram)\n",
    "- 도수분포표를 시각화한 그래프이다"
   ]
  },
  {
   "cell_type": "code",
   "execution_count": 29,
   "id": "dfeab144-6400-4567-b803-ce2bd34164c1",
   "metadata": {},
   "outputs": [
    {
     "data": {
      "text/plain": [
       "<Axes: >"
      ]
     },
     "execution_count": 29,
     "metadata": {},
     "output_type": "execute_result"
    },
    {
     "data": {
      "image/png": "[encoded data removed]",
      "text/plain": [
       "<Figure size 640x480 with 1 Axes>"
      ]
     },
     "metadata": {},
     "output_type": "display_data"
    }
   ],
   "source": [
    "import matplotlib.pyplot as plt\n",
    "import numpy as np\n",
    "\n",
    "df_seoul_class['서울'].hist(bins=5)"
   ]
  },
  {
   "cell_type": "markdown",
   "id": "179ce5fc-1f40-419e-951e-971cbfe89458",
   "metadata": {},
   "source": [
    "#### 산술 평균 (Mean)\n",
    "- 변량의 합을 변량의 수로 나눈 값을 의미한다.\n",
    "\n",
    "<img src=\"./images/mean.png\" style=\"margin-left 20px\">"
   ]
  },
  {
   "cell_type": "code",
   "execution_count": 30,
   "id": "df9550df-ee62-47ab-ad4b-7db74d3f0016",
   "metadata": {},
   "outputs": [
    {
     "data": {
      "text/html": [
       "<div>\n",
       "<style scoped>\n",
       "    .dataframe tbody tr th:only-of-type {\n",
       "        vertical-align: middle;\n",
       "    }\n",
       "\n",
       "    .dataframe tbody tr th {\n",
       "        vertical-align: top;\n",
       "    }\n",
       "\n",
       "    .dataframe thead th {\n",
       "        text-align: right;\n",
       "    }\n",
       "</style>\n",
       "<table border=\"1\" class=\"dataframe\">\n",
       "  <thead>\n",
       "    <tr style=\"text-align: right;\">\n",
       "      <th></th>\n",
       "      <th>평균키</th>\n",
       "    </tr>\n",
       "  </thead>\n",
       "  <tbody>\n",
       "    <tr>\n",
       "      <th>서울</th>\n",
       "      <td>167.2</td>\n",
       "    </tr>\n",
       "    <tr>\n",
       "      <th>경기</th>\n",
       "      <td>169.0</td>\n",
       "    </tr>\n",
       "    <tr>\n",
       "      <th>인천</th>\n",
       "      <td>167.7</td>\n",
       "    </tr>\n",
       "    <tr>\n",
       "      <th>광주</th>\n",
       "      <td>167.6</td>\n",
       "    </tr>\n",
       "    <tr>\n",
       "      <th>대구</th>\n",
       "      <td>174.1</td>\n",
       "    </tr>\n",
       "    <tr>\n",
       "      <th>부산</th>\n",
       "      <td>168.9</td>\n",
       "    </tr>\n",
       "    <tr>\n",
       "      <th>전주</th>\n",
       "      <td>170.0</td>\n",
       "    </tr>\n",
       "    <tr>\n",
       "      <th>강릉</th>\n",
       "      <td>174.8</td>\n",
       "    </tr>\n",
       "    <tr>\n",
       "      <th>울산</th>\n",
       "      <td>168.3</td>\n",
       "    </tr>\n",
       "    <tr>\n",
       "      <th>수원</th>\n",
       "      <td>162.6</td>\n",
       "    </tr>\n",
       "  </tbody>\n",
       "</table>\n",
       "</div>"
      ],
      "text/plain": [
       "      평균키\n",
       "서울  167.2\n",
       "경기  169.0\n",
       "인천  167.7\n",
       "광주  167.6\n",
       "대구  174.1\n",
       "부산  168.9\n",
       "전주  170.0\n",
       "강릉  174.8\n",
       "울산  168.3\n",
       "수원  162.6"
      ]
     },
     "execution_count": 30,
     "metadata": {},
     "output_type": "execute_result"
    }
   ],
   "source": [
    "df.mean(axis=0).to_frame(name='평균키')"
   ]
  },
  {
   "cell_type": "markdown",
   "id": "e0702a1b-5d53-4a66-84af-aba67939fe15",
   "metadata": {},
   "source": [
    "#### 편차 (Deviation)\n",
    "- 변량에서 평균을 뺀 값이다.\n",
    "- 각 변량의 편차를 구한 뒤 모두 합하면 0이 되기 때문에 편차의 평균은 구할 수 없다."
   ]
  },
  {
   "cell_type": "code",
   "execution_count": 39,
   "id": "f970ce1f-0c7f-4b32-b794-79d6966ee4b8",
   "metadata": {},
   "outputs": [
    {
     "data": {
      "text/html": [
       "<div>\n",
       "<style scoped>\n",
       "    .dataframe tbody tr th:only-of-type {\n",
       "        vertical-align: middle;\n",
       "    }\n",
       "\n",
       "    .dataframe tbody tr th {\n",
       "        vertical-align: top;\n",
       "    }\n",
       "\n",
       "    .dataframe thead th {\n",
       "        text-align: right;\n",
       "    }\n",
       "</style>\n",
       "<table border=\"1\" class=\"dataframe\">\n",
       "  <thead>\n",
       "    <tr style=\"text-align: right;\">\n",
       "      <th></th>\n",
       "      <th>경기</th>\n",
       "      <th>편차</th>\n",
       "    </tr>\n",
       "  </thead>\n",
       "  <tbody>\n",
       "    <tr>\n",
       "      <th>0</th>\n",
       "      <td>164</td>\n",
       "      <td>-5.0</td>\n",
       "    </tr>\n",
       "    <tr>\n",
       "      <th>1</th>\n",
       "      <td>187</td>\n",
       "      <td>18.0</td>\n",
       "    </tr>\n",
       "    <tr>\n",
       "      <th>2</th>\n",
       "      <td>154</td>\n",
       "      <td>-15.0</td>\n",
       "    </tr>\n",
       "    <tr>\n",
       "      <th>3</th>\n",
       "      <td>158</td>\n",
       "      <td>-11.0</td>\n",
       "    </tr>\n",
       "    <tr>\n",
       "      <th>4</th>\n",
       "      <td>172</td>\n",
       "      <td>3.0</td>\n",
       "    </tr>\n",
       "    <tr>\n",
       "      <th>5</th>\n",
       "      <td>181</td>\n",
       "      <td>12.0</td>\n",
       "    </tr>\n",
       "    <tr>\n",
       "      <th>6</th>\n",
       "      <td>170</td>\n",
       "      <td>1.0</td>\n",
       "    </tr>\n",
       "    <tr>\n",
       "      <th>7</th>\n",
       "      <td>184</td>\n",
       "      <td>15.0</td>\n",
       "    </tr>\n",
       "    <tr>\n",
       "      <th>8</th>\n",
       "      <td>169</td>\n",
       "      <td>0.0</td>\n",
       "    </tr>\n",
       "    <tr>\n",
       "      <th>9</th>\n",
       "      <td>151</td>\n",
       "      <td>-18.0</td>\n",
       "    </tr>\n",
       "  </tbody>\n",
       "</table>\n",
       "</div>"
      ],
      "text/plain": [
       "    경기    편차\n",
       "0  164  -5.0\n",
       "1  187  18.0\n",
       "2  154 -15.0\n",
       "3  158 -11.0\n",
       "4  172   3.0\n",
       "5  181  12.0\n",
       "6  170   1.0\n",
       "7  184  15.0\n",
       "8  169   0.0\n",
       "9  151 -18.0"
      ]
     },
     "metadata": {},
     "output_type": "display_data"
    },
    {
     "name": "stdout",
     "output_type": "stream",
     "text": [
      "0.0\n",
      "편차의 합: 0\n"
     ]
    }
   ],
   "source": [
    "gyunggi_df=df[\"경기\"].to_frame()\n",
    "gyunggi_df[\"편차\"] = gyunggi_df[\"경기\"].apply(lambda x:x - gyunggi_df.mean())\n",
    "display(gyunggi_df)\n",
    "\n",
    "# e가 붙어있는 수는 엄청 작은 수나 엄청 큰 수를 간략화 해쥬는 기능\n",
    "# 이 때, e는 자연 상수가 아니며, 과학적 기수법 e라고 한다.\n",
    "# a(e)b = a*10^b\n",
    "\n",
    "print(gyunggi_df['편차'].sum())\n",
    "\n",
    "#실수의 오류를 원래 값으로 변경하고자 반올림(round) 사용\n",
    "total = round(gyunggi_df['편차'].sum())\n",
    "print(f'편차의 합: {total}')"
   ]
  },
  {
   "cell_type": "code",
   "execution_count": 40,
   "id": "e40b3766-42dc-435c-a13d-f3e7ea355f20",
   "metadata": {},
   "outputs": [
    {
     "data": {
      "text/html": [
       "<div>\n",
       "<style scoped>\n",
       "    .dataframe tbody tr th:only-of-type {\n",
       "        vertical-align: middle;\n",
       "    }\n",
       "\n",
       "    .dataframe tbody tr th {\n",
       "        vertical-align: top;\n",
       "    }\n",
       "\n",
       "    .dataframe thead th {\n",
       "        text-align: right;\n",
       "    }\n",
       "</style>\n",
       "<table border=\"1\" class=\"dataframe\">\n",
       "  <thead>\n",
       "    <tr style=\"text-align: right;\">\n",
       "      <th></th>\n",
       "      <th>서울</th>\n",
       "      <th>경기</th>\n",
       "      <th>인천</th>\n",
       "      <th>광주</th>\n",
       "      <th>대구</th>\n",
       "      <th>부산</th>\n",
       "      <th>전주</th>\n",
       "      <th>강릉</th>\n",
       "      <th>울산</th>\n",
       "      <th>수원</th>\n",
       "    </tr>\n",
       "  </thead>\n",
       "  <tbody>\n",
       "    <tr>\n",
       "      <th>count</th>\n",
       "      <td>10.000000</td>\n",
       "      <td>10.000000</td>\n",
       "      <td>10.00000</td>\n",
       "      <td>10.000000</td>\n",
       "      <td>10.000000</td>\n",
       "      <td>10.000000</td>\n",
       "      <td>10.000000</td>\n",
       "      <td>10.000000</td>\n",
       "      <td>10.000000</td>\n",
       "      <td>10.000000</td>\n",
       "    </tr>\n",
       "    <tr>\n",
       "      <th>mean</th>\n",
       "      <td>167.200000</td>\n",
       "      <td>169.000000</td>\n",
       "      <td>167.70000</td>\n",
       "      <td>167.600000</td>\n",
       "      <td>174.100000</td>\n",
       "      <td>168.900000</td>\n",
       "      <td>170.000000</td>\n",
       "      <td>174.800000</td>\n",
       "      <td>168.300000</td>\n",
       "      <td>162.600000</td>\n",
       "    </tr>\n",
       "    <tr>\n",
       "      <th>std</th>\n",
       "      <td>11.213088</td>\n",
       "      <td>12.463279</td>\n",
       "      <td>9.39326</td>\n",
       "      <td>11.236844</td>\n",
       "      <td>11.957796</td>\n",
       "      <td>11.957796</td>\n",
       "      <td>9.261629</td>\n",
       "      <td>15.244671</td>\n",
       "      <td>10.198584</td>\n",
       "      <td>7.471427</td>\n",
       "    </tr>\n",
       "    <tr>\n",
       "      <th>min</th>\n",
       "      <td>152.000000</td>\n",
       "      <td>151.000000</td>\n",
       "      <td>157.00000</td>\n",
       "      <td>152.000000</td>\n",
       "      <td>151.000000</td>\n",
       "      <td>151.000000</td>\n",
       "      <td>153.000000</td>\n",
       "      <td>151.000000</td>\n",
       "      <td>152.000000</td>\n",
       "      <td>153.000000</td>\n",
       "    </tr>\n",
       "    <tr>\n",
       "      <th>25%</th>\n",
       "      <td>159.750000</td>\n",
       "      <td>159.500000</td>\n",
       "      <td>161.00000</td>\n",
       "      <td>159.250000</td>\n",
       "      <td>168.750000</td>\n",
       "      <td>160.000000</td>\n",
       "      <td>166.750000</td>\n",
       "      <td>163.000000</td>\n",
       "      <td>162.500000</td>\n",
       "      <td>157.500000</td>\n",
       "    </tr>\n",
       "    <tr>\n",
       "      <th>50%</th>\n",
       "      <td>167.000000</td>\n",
       "      <td>169.500000</td>\n",
       "      <td>166.50000</td>\n",
       "      <td>169.500000</td>\n",
       "      <td>175.000000</td>\n",
       "      <td>168.500000</td>\n",
       "      <td>171.000000</td>\n",
       "      <td>182.500000</td>\n",
       "      <td>166.000000</td>\n",
       "      <td>160.500000</td>\n",
       "    </tr>\n",
       "    <tr>\n",
       "      <th>75%</th>\n",
       "      <td>174.500000</td>\n",
       "      <td>178.750000</td>\n",
       "      <td>172.00000</td>\n",
       "      <td>173.250000</td>\n",
       "      <td>183.500000</td>\n",
       "      <td>178.750000</td>\n",
       "      <td>174.750000</td>\n",
       "      <td>185.000000</td>\n",
       "      <td>171.750000</td>\n",
       "      <td>168.500000</td>\n",
       "    </tr>\n",
       "    <tr>\n",
       "      <th>max</th>\n",
       "      <td>186.000000</td>\n",
       "      <td>187.000000</td>\n",
       "      <td>188.00000</td>\n",
       "      <td>187.000000</td>\n",
       "      <td>188.000000</td>\n",
       "      <td>187.000000</td>\n",
       "      <td>184.000000</td>\n",
       "      <td>189.000000</td>\n",
       "      <td>185.000000</td>\n",
       "      <td>175.000000</td>\n",
       "    </tr>\n",
       "  </tbody>\n",
       "</table>\n",
       "</div>"
      ],
      "text/plain": [
       "               서울          경기         인천          광주          대구          부산  \\\n",
       "count   10.000000   10.000000   10.00000   10.000000   10.000000   10.000000   \n",
       "mean   167.200000  169.000000  167.70000  167.600000  174.100000  168.900000   \n",
       "std     11.213088   12.463279    9.39326   11.236844   11.957796   11.957796   \n",
       "min    152.000000  151.000000  157.00000  152.000000  151.000000  151.000000   \n",
       "25%    159.750000  159.500000  161.00000  159.250000  168.750000  160.000000   \n",
       "50%    167.000000  169.500000  166.50000  169.500000  175.000000  168.500000   \n",
       "75%    174.500000  178.750000  172.00000  173.250000  183.500000  178.750000   \n",
       "max    186.000000  187.000000  188.00000  187.000000  188.000000  187.000000   \n",
       "\n",
       "               전주          강릉          울산          수원  \n",
       "count   10.000000   10.000000   10.000000   10.000000  \n",
       "mean   170.000000  174.800000  168.300000  162.600000  \n",
       "std      9.261629   15.244671   10.198584    7.471427  \n",
       "min    153.000000  151.000000  152.000000  153.000000  \n",
       "25%    166.750000  163.000000  162.500000  157.500000  \n",
       "50%    171.000000  182.500000  166.000000  160.500000  \n",
       "75%    174.750000  185.000000  171.750000  168.500000  \n",
       "max    184.000000  189.000000  185.000000  175.000000  "
      ]
     },
     "execution_count": 40,
     "metadata": {},
     "output_type": "execute_result"
    }
   ],
   "source": [
    "df.describe()"
   ]
  },
  {
   "cell_type": "markdown",
   "id": "f64dc6d3-fb4c-4100-9d2c-614717aef696",
   "metadata": {},
   "source": [
    "#### 분산 (Variance)\n",
    "- 변량이 평균으로부터 떨어져 있는 정도를 보기 위한 통계량이다.\n",
    "- 편차에 제곱하여 그 합을 구한 뒤 산술 평균을 낸다.\n",
    "\n",
    "<img src=\"./images/variance.png\" style=\"margin-left:10px\">"
   ]
  },
  {
   "cell_type": "code",
   "execution_count": 44,
   "id": "d2d402e2-0f69-45cf-a710-6b89203b46ff",
   "metadata": {},
   "outputs": [
    {
     "data": {
      "text/html": [
       "<div>\n",
       "<style scoped>\n",
       "    .dataframe tbody tr th:only-of-type {\n",
       "        vertical-align: middle;\n",
       "    }\n",
       "\n",
       "    .dataframe tbody tr th {\n",
       "        vertical-align: top;\n",
       "    }\n",
       "\n",
       "    .dataframe thead th {\n",
       "        text-align: right;\n",
       "    }\n",
       "</style>\n",
       "<table border=\"1\" class=\"dataframe\">\n",
       "  <thead>\n",
       "    <tr style=\"text-align: right;\">\n",
       "      <th></th>\n",
       "      <th>경기</th>\n",
       "      <th>편차</th>\n",
       "      <th>편차의 제곱(분산)</th>\n",
       "    </tr>\n",
       "  </thead>\n",
       "  <tbody>\n",
       "    <tr>\n",
       "      <th>0</th>\n",
       "      <td>164</td>\n",
       "      <td>-5.0</td>\n",
       "      <td>25.0</td>\n",
       "    </tr>\n",
       "    <tr>\n",
       "      <th>1</th>\n",
       "      <td>187</td>\n",
       "      <td>18.0</td>\n",
       "      <td>324.0</td>\n",
       "    </tr>\n",
       "    <tr>\n",
       "      <th>2</th>\n",
       "      <td>154</td>\n",
       "      <td>-15.0</td>\n",
       "      <td>225.0</td>\n",
       "    </tr>\n",
       "    <tr>\n",
       "      <th>3</th>\n",
       "      <td>158</td>\n",
       "      <td>-11.0</td>\n",
       "      <td>121.0</td>\n",
       "    </tr>\n",
       "    <tr>\n",
       "      <th>4</th>\n",
       "      <td>172</td>\n",
       "      <td>3.0</td>\n",
       "      <td>9.0</td>\n",
       "    </tr>\n",
       "    <tr>\n",
       "      <th>5</th>\n",
       "      <td>181</td>\n",
       "      <td>12.0</td>\n",
       "      <td>144.0</td>\n",
       "    </tr>\n",
       "    <tr>\n",
       "      <th>6</th>\n",
       "      <td>170</td>\n",
       "      <td>1.0</td>\n",
       "      <td>1.0</td>\n",
       "    </tr>\n",
       "    <tr>\n",
       "      <th>7</th>\n",
       "      <td>184</td>\n",
       "      <td>15.0</td>\n",
       "      <td>225.0</td>\n",
       "    </tr>\n",
       "    <tr>\n",
       "      <th>8</th>\n",
       "      <td>169</td>\n",
       "      <td>0.0</td>\n",
       "      <td>0.0</td>\n",
       "    </tr>\n",
       "    <tr>\n",
       "      <th>9</th>\n",
       "      <td>151</td>\n",
       "      <td>-18.0</td>\n",
       "      <td>324.0</td>\n",
       "    </tr>\n",
       "  </tbody>\n",
       "</table>\n",
       "</div>"
      ],
      "text/plain": [
       "    경기    편차  편차의 제곱(분산)\n",
       "0  164  -5.0        25.0\n",
       "1  187  18.0       324.0\n",
       "2  154 -15.0       225.0\n",
       "3  158 -11.0       121.0\n",
       "4  172   3.0         9.0\n",
       "5  181  12.0       144.0\n",
       "6  170   1.0         1.0\n",
       "7  184  15.0       225.0\n",
       "8  169   0.0         0.0\n",
       "9  151 -18.0       324.0"
      ]
     },
     "metadata": {},
     "output_type": "display_data"
    },
    {
     "name": "stdout",
     "output_type": "stream",
     "text": [
      "분산: 139.8\n"
     ]
    }
   ],
   "source": [
    "gyunggi_df['편차의 제곱(분산)'] = gyunggi_df[\"편차\"].apply(lambda x:x**2)\n",
    "display(gyunggi_df)\n",
    "variance = gyunggi_df['편차의 제곱(분산)'].mean()\n",
    "print(f'분산: {round(variance,2)}')"
   ]
  },
  {
   "cell_type": "markdown",
   "id": "5d995e23-154a-4508-9ce1-2dcac2bc4992",
   "metadata": {},
   "source": [
    "#### 표준편차 (Standard deviation)\n",
    "- 분산의 제곱근이며, 관측된 변량의 흩어진 정도를 하나의 수치로 나타내는 통계량이다.\n",
    "- 표준편차가 작을 수록 평균 값에서 변량들의 거리가 가깝다고 판단한다.\n",
    "\n",
    "<img src=\"./images/standard_deviation.png\" style=\"margin-left:15px\">"
   ]
  },
  {
   "cell_type": "code",
   "execution_count": 46,
   "id": "519e7ed2-69c0-418e-a55e-3d380749a0a8",
   "metadata": {},
   "outputs": [
    {
     "name": "stdout",
     "output_type": "stream",
     "text": [
      "표준 편차: 11.823705003085962\n"
     ]
    }
   ],
   "source": [
    "import math\n",
    "\n",
    "std = math.sqrt(variance)\n",
    "print(f'표준 편차: {std}')"
   ]
  },
  {
   "cell_type": "markdown",
   "id": "f0e34811-ed20-4aa0-86c6-b2312a78a93a",
   "metadata": {},
   "source": [
    "#### 확률 (Random variable)\n",
    "- 머신러닝, 딥러닝 등 확률을 다루는 분야에 있어서 필수적인 개념이다.\n",
    "- 확률 (Probability)이 있다는 뜻은 사건(event)이 있다는 뜻이며, 시행(trial)을 해야 시행의 결과인 사건(event)이 나타난다.\n",
    "- 시행(trial)을 해서 어떤 사건(event)이 나타났는지에 따라 값이 정해지는 변수이다.\n",
    "- 알파벳 대문자로 표현하며, X,Y,Z 또는 x<sub>1</sub>, y<sub>1</sub>, z<sub>1</sub>과 같이 표현한다.\n",
    "- 확률 변수는 집합이며, 원소를 확률 변수값(Value of Random Variable)이라고 표현한다. 확률변수에서 사용한 알파벳의 소문자를 사용한다.\n",
    "- Y = {y<sub>1</sub>,y<sub>2</sub>,y<sub>3</sub>}, 이 때 Y는 확률 변수이고, 원소인 y<sub>1</sub>~y<sub>3</sub>은 확률 변수값이다.\n",
    "\n",
    "<img src=\"./images/random_variable.jpg\" width=\"700px\" style=\"margin-left:15px\">"
   ]
  },
  {
   "cell_type": "markdown",
   "id": "7fcda7a1-0ac1-431b-9ae5-f176bc31dc8d",
   "metadata": {},
   "source": [
    "#### 범주형 확률변수 (Categorical random variable)\n",
    "\n",
    "- 범주형 확률변수값은 수치가 아닌 기호나 언어, 숫자등으로 표현하고, 기호나 언어는 순서를 가질 수도 있다.\n",
    "- 유한 집합으로 표현한다. 유한 집합은 원소의 수가 유한한 집합을 의미한다.\n",
    "- {앞면, 뒷면}, {동의, 비동의}, {선택, 미선택}, {봄,여름,가을,겨울}"
   ]
  },
  {
   "cell_type": "markdown",
   "id": "204068c7-86ce-41c6-8b2a-d6784ccc0d9f",
   "metadata": {},
   "source": [
    "#### 이산형 확률변수 (Discrete random variable)\n",
    "- 이산형 확률변수 값은 수치로 표현하고 셀 수 있는 값이다. 이를 더 넓은 범위로, 양적 확률변수 또는 수치형 확률 변수라고도 부른다.\n",
    "- 유한집합 또는 셀수 있는 무한 집합으로 표현한다. 무한 집합은 원소의 수가 무한한 집합을 의미한다.\n",
    "- {0,1,2,3}, {10,20,30}, {1,2,3,...}, {100,1000,10000}"
   ]
  },
  {
   "cell_type": "markdown",
   "id": "7e2b7f7d-2977-40c6-8d01-8c390b8259c5",
   "metadata": {},
   "source": [
    "#### 연속형 확률변수 (Continuous random variable)\n",
    "- 연속형 확률 변수는 구간을 나타내는 수치로 표현한다. 이를 더 넓은 범위로, 양적 확률변수 또는 수치형 확률 변수라고도 부른다.\n",
    "- 셀 수 없는 무한 집합으로 표현한다.\n",
    "- 128.56 < X < 268.56"
   ]
  },
  {
   "cell_type": "markdown",
   "id": "eb085a1f-8419-4517-9228-9af317f883d9",
   "metadata": {},
   "source": [
    "#### 확률 분포 (Probability distribution)\n",
    "- 사건에 대한 확률 변수에서 정의된 모든 확률값의 분포이며, 서로 다른 모든 결과의 출현 확률을 제공한다.\n",
    "> <strong>1) 동전 던지기(시행)</strong>  \n",
    "> <strong>2) {0, 1} (확률변수와 확률변수값)</strong>  \n",
    "> <strong>3) 완벽한 형태의 동전일 경우의 확률 분포</strong>  \n",
    ">\n",
    "> <img src=\"./images/probability_distribution01.png\">  \n",
    "> \n",
    "> \n",
    "> <strong>1) 1~12까지 새겨진 주사위 던지기 (시행)</strong>  \n",
    "> <strong>2) {0, 1, 2, 3, 4, 5, 6, 7, 8, 9, 10, 11, 12} (확률변수와 확률변수값)</strong>  \n",
    "> <strong>3) 완벽한 형태의 주사위 경우의 확률 분포</strong>  \n",
    ">\n",
    "> <img src=\"./images/probability_distribution02.png\">"
   ]
  },
  {
   "cell_type": "markdown",
   "id": "4fdb2968-3b89-4744-abe3-4251985bc8ed",
   "metadata": {},
   "source": [
    "#### 확률 분포표 (Probability distributioin table)\n",
    "- 확률변수의 모든 값(원소)에 대해 확률을 표로 표시한 것이다.\n",
    "- 범주형 또는 이산형 확률 변수의 확률 분포를 표현하기에 적합한 방식이다."
   ]
  },
  {
   "cell_type": "code",
   "execution_count": 54,
   "id": "fd2a52a6-30ea-458b-83dd-a012585df119",
   "metadata": {},
   "outputs": [
    {
     "data": {
      "text/html": [
       "<div>\n",
       "<style scoped>\n",
       "    .dataframe tbody tr th:only-of-type {\n",
       "        vertical-align: middle;\n",
       "    }\n",
       "\n",
       "    .dataframe tbody tr th {\n",
       "        vertical-align: top;\n",
       "    }\n",
       "\n",
       "    .dataframe thead th {\n",
       "        text-align: right;\n",
       "    }\n",
       "</style>\n",
       "<table border=\"1\" class=\"dataframe\">\n",
       "  <thead>\n",
       "    <tr style=\"text-align: right;\">\n",
       "      <th></th>\n",
       "      <th>경주마 번호</th>\n",
       "      <th>1등 횟수</th>\n",
       "      <th>1등할 확률</th>\n",
       "    </tr>\n",
       "  </thead>\n",
       "  <tbody>\n",
       "    <tr>\n",
       "      <th>0</th>\n",
       "      <td>1</td>\n",
       "      <td>25</td>\n",
       "      <td>0.25</td>\n",
       "    </tr>\n",
       "    <tr>\n",
       "      <th>1</th>\n",
       "      <td>2</td>\n",
       "      <td>25</td>\n",
       "      <td>0.25</td>\n",
       "    </tr>\n",
       "    <tr>\n",
       "      <th>2</th>\n",
       "      <td>3</td>\n",
       "      <td>25</td>\n",
       "      <td>0.25</td>\n",
       "    </tr>\n",
       "    <tr>\n",
       "      <th>3</th>\n",
       "      <td>4</td>\n",
       "      <td>25</td>\n",
       "      <td>0.25</td>\n",
       "    </tr>\n",
       "  </tbody>\n",
       "</table>\n",
       "</div>"
      ],
      "text/plain": [
       "   경주마 번호  1등 횟수  1등할 확률\n",
       "0       1     25    0.25\n",
       "1       2     25    0.25\n",
       "2       3     25    0.25\n",
       "3       4     25    0.25"
      ]
     },
     "metadata": {},
     "output_type": "display_data"
    }
   ],
   "source": [
    "import numpy as np\n",
    "import pandas as pd\n",
    "\n",
    "df_h_dist = pd.DataFrame(np.arange(0,100) % 4 + 1, columns=[\"경주마 번호\"])\n",
    "\n",
    "df_h_dist_group = df_h_dist.groupby('경주마 번호')['경주마 번호'].count().reset_index(name = \"1등 횟수\")\n",
    "\n",
    "df_h_dist_group['1등할 확률'] = df_h_dist_group[\"1등 횟수\"] /100\n",
    "display(df_h_dist_group)"
   ]
  },
  {
   "cell_type": "markdown",
   "id": "13422748-a015-4f7c-97d4-eab618e10654",
   "metadata": {},
   "source": [
    "#### 확률분포함수(Probability distribution function)\n",
    "- 확률변수의 분포를 나타내는 함수로서, 확률 변수의 확률변수값이 나올 확률을 나타내는 함수이다.\n",
    "- 확률 질량 함수, 확률 밀도함수 등의 함수가 있다."
   ]
  },
  {
   "cell_type": "code",
   "execution_count": 56,
   "id": "e9df48b4-72fa-44fd-9243-40ab1cd87213",
   "metadata": {},
   "outputs": [
    {
     "data": {
      "image/png": "[encoded data removed]",
      "text/plain": [
       "<Figure size 640x480 with 1 Axes>"
      ]
     },
     "metadata": {},
     "output_type": "display_data"
    }
   ],
   "source": [
    "import matplotlib.pyplot as plt\n",
    "import numpy as np\n",
    "\n",
    "plt.hist(df_h_dist[\"경주마 번호\"],range(1,6), density=True, color=\"pink\", edgecolor=\"red\")\n",
    "plt.xlim(0,6)\n",
    "plt.ylim(0,1)\n",
    "plt.show()"
   ]
  },
  {
   "cell_type": "markdown",
   "id": "a4be70af-2135-419f-8b1b-c9431b4d585b",
   "metadata": {},
   "source": [
    "#### 확률 질량 함수 (Probability mass function, pmf)\n",
    "- 확률변수 X의 분포를 나타내는 함수로서, x<sub>i</sub> 가 나올 확률이다.\n",
    "- 확률 변수의 값을 매개변수로 전달받고, 해당 값이 나타날 확률을 구해서 리턴하는 함수이다.\n",
    "- 범주형 확률변수와 이산형 확률변수에서 사용된다.\n",
    "- 확률 변수에서 각 값에 대한 확률을 나타내는 것이 마치 각 값이 \"질량\"을 가지고 있는 것 처럼 보이기 때문에 확률 질량 함수로 불린다.\n",
    "\n",
    "> 확률 질량 함수 f는 확률 변수 X가 x를 변수값으로 가질 때의 확률이다.  \n",
    "> <img src=\"./images/pmf01.png\" style=\"margin-top: 10px\">  \n",
    "> <img src=\"./images/pmf02.png\">  \n",
    "> <img src=\"./images/pmf03.png\">  "
   ]
  },
  {
   "cell_type": "code",
   "execution_count": 61,
   "id": "759522c0-4998-4d43-ba15-449dc4d4f011",
   "metadata": {},
   "outputs": [
    {
     "data": {
      "text/html": [
       "<div>\n",
       "<style scoped>\n",
       "    .dataframe tbody tr th:only-of-type {\n",
       "        vertical-align: middle;\n",
       "    }\n",
       "\n",
       "    .dataframe tbody tr th {\n",
       "        vertical-align: top;\n",
       "    }\n",
       "\n",
       "    .dataframe thead th {\n",
       "        text-align: right;\n",
       "    }\n",
       "</style>\n",
       "<table border=\"1\" class=\"dataframe\">\n",
       "  <thead>\n",
       "    <tr style=\"text-align: right;\">\n",
       "      <th></th>\n",
       "      <th>경주마 번호</th>\n",
       "      <th>1등한 횟수</th>\n",
       "      <th>1등할 확률</th>\n",
       "    </tr>\n",
       "  </thead>\n",
       "  <tbody>\n",
       "    <tr>\n",
       "      <th>0</th>\n",
       "      <td>1</td>\n",
       "      <td>26</td>\n",
       "      <td>0.26</td>\n",
       "    </tr>\n",
       "    <tr>\n",
       "      <th>1</th>\n",
       "      <td>2</td>\n",
       "      <td>21</td>\n",
       "      <td>0.21</td>\n",
       "    </tr>\n",
       "    <tr>\n",
       "      <th>2</th>\n",
       "      <td>3</td>\n",
       "      <td>34</td>\n",
       "      <td>0.34</td>\n",
       "    </tr>\n",
       "    <tr>\n",
       "      <th>3</th>\n",
       "      <td>4</td>\n",
       "      <td>19</td>\n",
       "      <td>0.19</td>\n",
       "    </tr>\n",
       "  </tbody>\n",
       "</table>\n",
       "</div>"
      ],
      "text/plain": [
       "   경주마 번호  1등한 횟수  1등할 확률\n",
       "0       1      26    0.26\n",
       "1       2      21    0.21\n",
       "2       3      34    0.34\n",
       "3       4      19    0.19"
      ]
     },
     "metadata": {},
     "output_type": "display_data"
    }
   ],
   "source": [
    "import numpy as np\n",
    "import pandas as pd\n",
    "\n",
    "df_h = pd.DataFrame(np.random.randint(1,5,size =(100,1)), columns=[\"경주마 번호\"])\n",
    "df_h_group = df_h.groupby('경주마 번호')['경주마 번호'].count().reset_index(name=\"1등한 횟수\")\n",
    "\n",
    "df_h_group[\"1등할 확률\"]= df_h_group[\"1등한 횟수\"]/100\n",
    "\n",
    "display(df_h_group)"
   ]
  },
  {
   "cell_type": "code",
   "execution_count": 62,
   "id": "fb9489c8-cb5e-41a2-b0c2-86f0ab7f1459",
   "metadata": {},
   "outputs": [
    {
     "data": {
      "image/png": "[encoded data removed]",
      "text/plain": [
       "<Figure size 640x480 with 1 Axes>"
      ]
     },
     "metadata": {},
     "output_type": "display_data"
    }
   ],
   "source": [
    "import matplotlib.pyplot as plt\n",
    "import numpy as np\n",
    "\n",
    "plt.hist(df_h['경주마 번호'],range(1,6),density=True\\\n",
    "         ,color = \"pink\", edgecolor=\"red\", linewidth= 2)\n",
    "plt.show()"
   ]
  },
  {
   "cell_type": "markdown",
   "id": "0593dcb7-243d-407a-b352-05ca1da11d29",
   "metadata": {},
   "source": [
    "#### 무한대 (Infinity)\n",
    "- 끝없이 커지는 상태를 의미하고 기호로 ∞ 를 사용한다."
   ]
  },
  {
   "cell_type": "markdown",
   "id": "552d80ee-929c-43f4-9bbf-e7f3c19012b6",
   "metadata": {},
   "source": [
    "#### 무한소 0 (Infinitesimal)\n",
    "- 거의 없다는 의미이고, 0에 매우 근접하지만 0이 아닌 상태를 의미한다."
   ]
  },
  {
   "cell_type": "markdown",
   "id": "8633dbbf-2d7a-4f0c-bf2f-73aae7003304",
   "metadata": {},
   "source": [
    "#### 미분 (Differential)\n",
    "- 기울기는 독립변수가 종속변수에 미치는 영향력의 크기를 의미한다.\n",
    "- 변경 전의 독립변수 x<sub>1</sub>이라는 점과 변경 후의 x<sub>2</sub>라는 점을 지나는 직선의 기울기가 바로 변화에 대한 속도이다.\n",
    "- 즉, 직선의 기울기가 4로 구해졌다면, 종속변수가 독립변수의 변화에 4배 속도로 변화된 것이다.\n",
    "- 이 때, 두 점 사이가 무한히 가까워지면, 결국 거의 한점과 같은 점에 대한 접선의 기울기가 되고 이는 순간적인 변화량이다.\n",
    "- 미분을 통해서 독립변수가 굉장히 미세하게 변화할 때 순간적으로 종속 변수가 얼마나 빠르게 변화하는 지 알 수 있다."
   ]
  },
  {
   "cell_type": "markdown",
   "id": "817e5530-1298-4587-8e0c-c2a45c906bf9",
   "metadata": {},
   "source": [
    "#### 적분 (integral)\n",
    "- 선분 = 높이(길이), 면적 = 가로 X 높이\n",
    "- 면적을 구할 때 여러 사각형으로 구한 뒤 합하여도 전체 면적이 나온다.\n",
    "- 가로가 무한소 0인 사각형 즉, 선분과 거의 비슷한 사각형을 쌓은 뒤 각 면적을 모두 합하는 것이 적분이다."
   ]
  },
  {
   "cell_type": "markdown",
   "id": "d892144f-c304-4d32-8773-610a2ab20a80",
   "metadata": {},
   "source": [
    "#### 확률 밀도 함수 (Probability density function, pdf)\n",
    "- 확률변수 X의 분포를 나타내는 함수로서, 특정 구간에 속할 확률이고 이는 특정 구간을 적분한 값이다.\n",
    "- 확률 변수값의 범위(구간)를 매개변수로 전달 받고, 범위의 넓이를 구해서 리턴하는 함수이다.\n",
    "- 연속형 확률 변수에서 사용된다.\n",
    "- 전체에 대한 확률이 아닌 구간에 포함될 확률을 나타내기 떄문에 구간에 따른 밀도를 구하는 것이고, 이를 통해 확률밀도 함수라 불린다.\n",
    "\n",
    "> 확률밀도 함수 f는 특정 구간에 포함될 확률을 나타낸다.  \n",
    "> <img src=\"./images/pdf01.png\" style=\"margin-top: 10px\">  \n",
    "> <img src=\"./images/pdf02.png\">  \n",
    "> <img src=\"./images/pdf03.png\">    \n",
    "> <img src=\"./images/pdf04.png\">    "
   ]
  },
  {
   "cell_type": "code",
   "execution_count": 65,
   "id": "b5a0fd87-9cbf-4cbb-80e8-9818bcbf05b3",
   "metadata": {},
   "outputs": [
    {
     "name": "stdout",
     "output_type": "stream",
     "text": [
      "구간 [-1, 2]에서의 확률: 0.8185946141203638\n"
     ]
    },
    {
     "data": {
      "image/png": "[encoded data removed]",
      "text/plain": [
       "<Figure size 640x480 with 1 Axes>"
      ]
     },
     "metadata": {},
     "output_type": "display_data"
    }
   ],
   "source": [
    "import numpy as np\n",
    "import matplotlib.pyplot as plt\n",
    "from scipy.integrate import quad\n",
    "\n",
    "# 임의의 확률밀도 함수 정의\n",
    "def pdf(x):\n",
    "    # 정규분포\n",
    "    mu = 0\n",
    "    sigma = 1\n",
    "    return 1 / (sigma * np.sqrt(2 * np.pi)) * np.exp(-((x - mu) / sigma) ** 2 / 2)\n",
    "\n",
    "# 랜덤한 구간\n",
    "a = -1\n",
    "b = 2\n",
    "\n",
    "def calculate_probability_in_range(a, b):\n",
    "    probability, _ = quad(pdf, a, b)\n",
    "    return probability\n",
    "\n",
    "probability = calculate_probability_in_range(a, b)\n",
    "print(f'구간 [{a}, {b}]에서의 확률: {probability}')\n",
    "\n",
    "x_values = np.linspace(-5, 5, 10000)\n",
    "y_values = pdf(x_values)\n",
    "\n",
    "plt.plot(x_values, y_values, label='pdf', color='blue')\n",
    "plt.fill_between(x_values, y_values\\\n",
    "                 , where=(x_values >= a) & (x_values <= b)\\\n",
    "                 , color='skyblue', alpha=0.5, label='area')\n",
    "plt.axvline(x=a, linestyle='--', color='red', label='start')\n",
    "plt.axvline(x=b, linestyle='--', color='red', label='end')\n",
    "plt.xlabel('x')\n",
    "plt.ylabel('density')\n",
    "plt.title('Probability density function')\n",
    "plt.legend()\n",
    "plt.grid(True)\n",
    "plt.show()"
   ]
  },
  {
   "cell_type": "markdown",
   "id": "d0b1028f-bf5b-496f-949c-4a20ccf2f895",
   "metadata": {},
   "source": [
    "#### 정규분포 (Normal distribution)\n",
    "- 모든 독립적인 확률 변수들의 평균은 어떠한 분포에 가까워지는데, 이 분포를 정규분포라고 한다.\n",
    "- 즉, 비정규분포의 대부분은 극한상태에 있어서 정규분포에 가까워진다.\n",
    "\n",
    "<img src=\"./images/normal_distribution04.png\" width=\"500px\"> <img src=\"./images/normal_distribution03.png\" width=\"500px\">  \n",
    "- 평균 μ(mu)와 표준편차 σ(sigma)에 대해 아래의 확률밀도함수를 가지는 분포를 의미한다.\n",
    "<div style=\"display:flex\">\n",
    "    <div>\n",
    "        <img src=\"./images/normal_distribution02.png\" width=\"230px\" style=\"margin-left:20px\">\n",
    "    </div>\n",
    "</div>    \n",
    "<div style=\"display:flex\">\n",
    "    <div>\n",
    "        <img src=\"./images/normal_distribution01.png\" width=\"700px\" style=\"margin-left:20px\">\n",
    "    </div>\n",
    "</div>  "
   ]
  },
  {
   "cell_type": "markdown",
   "id": "512f1cd9-5c82-4362-82d9-7a0932d40e3d",
   "metadata": {},
   "source": [
    "#### 표준 정규분포 (Standart normal distribution)\n",
    "- 정규분포는 평균과 표준편차에 따라서 모양이 달라진다.\n",
    "  \n",
    "<img src=\"./images/standard_normal_distribution01.png\" width=\"400px\">\n",
    "\n",
    "- 정규분포를 따르는 분포는 많지만, 각각의 평균과 표준편차가 달라서 일반화 할 수는 없다.\n",
    "- N(μ,σ)= N(0,1)로 만든다면 모두 같은 특성을 가지는 동일한 확률 분포로 바꿔서 일반화 할 수 있다.\n",
    "- 따라서, 일반 정규분포를 표준 정규분포로 바꿔준 뒤 표준 정규분포의 특정 구간의 넓이를 이용해서 원래 분포의 확률을 구할 수 있다.\n",
    "\n",
    "<img src=\"./images/standard_normal_distribution02.png\" width=\"550px\">"
   ]
  },
  {
   "cell_type": "markdown",
   "id": "713da407-f6b6-4a18-8d85-3a44b6996e3a",
   "metadata": {},
   "source": [
    "#### 표준화 (Standardization)\n",
    "- 다양한 형태의 정규분포를 표준 정규 분포로 변환화는 방법이다.\n",
    "- 표준 정규분포에 대한 값(넓이)를 이용해 원래 분포의 확률을 구할 수 있다.\n",
    "\n",
    "<img src=\"./images/standardization01.png\" style=\"margin-left:20px\">  \n",
    "\n",
    "<img src=\"./images/standardization02.png\" style=\"margin-left:20px\">"
   ]
  },
  {
   "cell_type": "markdown",
   "id": "8d517f8c-0dbc-4837-a499-a9a48f376c5f",
   "metadata": {},
   "source": [
    "#### 모집단과 모수 (Population and population parameter)\n",
    "- 모집단이란, 정보를 얻고자하는 대상이 전체 집합을 의미한다.\n",
    "- 모수란, 모집단의 수치적 요약값을 의미한다. 평균 또는 표준편차와 같은 모집단의 통계값을 모수라고 한다."
   ]
  },
  {
   "cell_type": "markdown",
   "id": "719ecbdf-bdad-40db-9106-4248fb3011b7",
   "metadata": {},
   "source": [
    "#### 표본과 샘플링 (Sample and Sampling)\n",
    "- 표본이란, 모집단의 부분집합으로서 표본의 통계량을 통해 모집단의 통계량을 추론할 수 있다.\n",
    "- 모집단의 통계량을 구할 수 없는 상황 즉, 전수 조사가 불가능한 상황에서 임의의 표본을 추출하여 분석한다.\n",
    "- 이렇게 표본(Sample)을 추출하는 작업을 샘플링(Sampling)이라고 한다."
   ]
  },
  {
   "cell_type": "markdown",
   "id": "bb21bfd3-d9fb-445c-bb4c-0f4ac6dd0e07",
   "metadata": {},
   "source": [
    "### 데이터 분석의 범위\n",
    "<img src=\"./images/statistics02.png\" width=\"400px\" style=\"margin-left:10px\">\n",
    "\n",
    "#### 기술 통계 (Descriptive Statistics)\n",
    "- 수집한 데이터의 요약을 통해서 데이터를 설명(묘사)하는 기법이다.\n",
    "- 수집한 데이터의 전체적인 모양을 그리기 위해 기술 통계 기법을 사용한다.\n",
    "- 집중화 경향(Central tendency): 평균(mean), 중앙값(median), 최빈값(mode)\n",
    "- 분산도(Variation) : 표준편차(standard deviation), 사분위(Quartile)\n",
    "\n",
    "\n",
    "#### 추론 통계 (Ingerential Statistics)\n",
    "- 수집한 데이터를 기반으로 특성(패턴)을 알아낸 뒤 특정 데이터를 추론하거나 예측하는 기법이다.\n",
    "- 모집단(Population)에서 일정 표본(Sample)을 채취한 뒤, 표본에 대한 통계를 구하여 모집단에 대해 추론한다. 이를 통해 결론에 도달하는 기법이다.\n",
    "- 데이터 전체를 조사할 수 없을 때, 랜덤한 표본을 분석해서 나온결과를 전체적으로 일반화 시킬때 유용하다."
   ]
  },
  {
   "cell_type": "code",
   "execution_count": null,
   "id": "7885c441-dcfe-44c5-8b6e-53f581fa701a",
   "metadata": {},
   "outputs": [],
   "source": []
  }
 ],
 "metadata": {
  "kernelspec": {
   "display_name": "Python 3 (ipykernel)",
   "language": "python",
   "name": "python3"
  },
  "language_info": {
   "codemirror_mode": {
    "name": "ipython",
    "version": 3
   },
   "file_extension": ".py",
   "mimetype": "text/x-python",
   "name": "python",
   "nbconvert_exporter": "python",
   "pygments_lexer": "ipython3",
   "version": "3.11.8"
  }
 },
 "nbformat": 4,
 "nbformat_minor": 5
}
