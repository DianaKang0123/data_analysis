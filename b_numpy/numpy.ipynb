{
 "cells": [
  {
   "cell_type": "code",
   "execution_count": 2,
   "id": "c4a3a41d-7228-484e-ba47-fdadbc029e41",
   "metadata": {},
   "outputs": [],
   "source": [
    "import numpy as np"
   ]
  },
  {
   "cell_type": "code",
   "execution_count": 3,
   "id": "004b4c3c-0716-4300-afd5-319c7caf96de",
   "metadata": {},
   "outputs": [
    {
     "name": "stdout",
     "output_type": "stream",
     "text": [
      "1.26.4\n"
     ]
    }
   ],
   "source": [
    "print(np.__version__)"
   ]
  },
  {
   "cell_type": "markdown",
   "id": "9578a387-b2ac-4773-a27e-720a859e4762",
   "metadata": {},
   "source": [
    "### Numpy\n",
    "- 머신러닝 어플리케이션에서 데이터 추출, 가공, 변환과 같은 데이터 처리 부분을 담당한다.\n",
    "- 넘파이 기반의 사이킷런을 이해하기 위해서는 넘파이는 필수다.\n",
    "- 사이킷런은 직관적이고 간결하기 때문에 상대적으로 개발하기 쉽지만 넘파이는 양도 많고 배울 것도 많다.\n",
    "- 넘파이 전체를 다 이해하고 공부하는 것은 머신러닝을 포기하게 만들기 때문에 기본 문법과 중요 API만 이해하는 것이 전략적으로 좋다."
   ]
  },
  {
   "cell_type": "markdown",
   "id": "691d0247-3928-4a08-8d57-6f4bccf188a7",
   "metadata": {},
   "source": [
    "#### ndarray\n",
    "- N차원(N-demension) 배열 객체이다.\n",
    "- 파이썬 list를 array()메소드에 전달하면 ndarray로 변환되고 넘파이에 다양하고 편리한 기능을 사용할 수 있게 된다.\n",
    "- 반드시 같은 자료형의 데이터만 담아야한다.\n",
    "\n",
    "<img src=\"./images/numpy1.png\" width=\"400px\" style=\"margin-left: 10px\">"
   ]
  },
  {
   "cell_type": "code",
   "execution_count": 4,
   "id": "33b7c4aa-dc4a-4e40-b76b-89852f98a2c8",
   "metadata": {},
   "outputs": [],
   "source": [
    "import numpy as np"
   ]
  },
  {
   "cell_type": "code",
   "execution_count": 5,
   "id": "ada5fb4f-6c4a-4062-98a6-46af78054c41",
   "metadata": {},
   "outputs": [
    {
     "name": "stdout",
     "output_type": "stream",
     "text": [
      "<class 'numpy.ndarray'>\n",
      "[1 2 3]\n",
      "==============================\n",
      "(3,)\n",
      "1\n"
     ]
    }
   ],
   "source": [
    "ndarray1 = np.array([1,2,3])\n",
    "print(type(ndarray1), ndarray1, sep='\\n')\n",
    "\n",
    "print('='*30)\n",
    "\n",
    "# shape: 차원을 알 수 있다. (3,) -> 11행 3열 => 1차원\n",
    "print(ndarray1.shape)\n",
    "# ndim: 차원의 개수를 나타낸다\n",
    "print(ndarray1.ndim)"
   ]
  },
  {
   "cell_type": "code",
   "execution_count": 6,
   "id": "7a490c07-8e1b-4f73-a701-e9770760bde8",
   "metadata": {},
   "outputs": [
    {
     "name": "stdout",
     "output_type": "stream",
     "text": [
      "<class 'numpy.ndarray'>\n",
      "[[1 2 3]\n",
      " [4 5 6]]\n",
      "==============================\n",
      "(2, 3)\n",
      "2\n"
     ]
    }
   ],
   "source": [
    "# 아래의 2차원 리스트를 nd array로 변환, 출력\n",
    "# 1,2,3\n",
    "# 4,5,6\n",
    "\n",
    "ndarray2 = np.array([[1,2,3],[4,5,6]])\n",
    "print(type(ndarray2), ndarray2, sep='\\n')\n",
    "\n",
    "print('='*30)\n",
    "\n",
    "print(ndarray2.shape)\n",
    "print(ndarray2.ndim)"
   ]
  },
  {
   "cell_type": "markdown",
   "id": "3aaa5eac-e3b7-4f64-80cd-fd0080cb4cda",
   "metadata": {},
   "source": [
    "#### astype()\n",
    "- ndarray에 저장된 요소의 타입을 변환시킬 때 사용한다.\n",
    "- 대용량 데이터 처리 시 메모리 절약을 위해 사용한다."
   ]
  },
  {
   "cell_type": "code",
   "execution_count": 7,
   "id": "166046c7-1e3e-443d-ba28-82847a9f622f",
   "metadata": {},
   "outputs": [
    {
     "name": "stdout",
     "output_type": "stream",
     "text": [
      "<class 'numpy.ndarray'>\n",
      "int32\n",
      "<class 'numpy.ndarray'>\n",
      "int8\n"
     ]
    }
   ],
   "source": [
    "ndarray1 = np.array([1,2,3])\n",
    "\n",
    "print(type(ndarray1))\n",
    "print(ndarray1.dtype)\n",
    "\n",
    "ndarray1_int8 = ndarray1.astype(np.int8)\n",
    "\n",
    "print(type(ndarray1_int8))\n",
    "print(ndarray1_int8.dtype)"
   ]
  },
  {
   "cell_type": "code",
   "execution_count": 8,
   "id": "3f3a1bf7-bb3d-4fe8-96fd-79dca04493bb",
   "metadata": {},
   "outputs": [
    {
     "name": "stdout",
     "output_type": "stream",
     "text": [
      "(3,)\n",
      "int32\n",
      "<class 'numpy.ndarray'>\n",
      "float16\n",
      "[4. 5. 6.]\n"
     ]
    }
   ],
   "source": [
    "# 4,5,6을 ndarray에 담는다 \n",
    "# dtype을 확인한 후 float16으로 변경 후 확인\n",
    "\n",
    "ndarray2 = np.array([4,5,6])\n",
    "\n",
    "print(ndarray2.shape)\n",
    "print(ndarray2.dtype)\n",
    "\n",
    "ndarray2_float16 = ndarray2.astype(np.float16)\n",
    "print(type(ndarray2_float16))\n",
    "print(ndarray2_float16.dtype)\n",
    "print(ndarray2_float16)"
   ]
  },
  {
   "cell_type": "markdown",
   "id": "633304e8-a44c-41fe-a0dc-4b9fdc085faf",
   "metadata": {},
   "source": [
    "#### axis\n",
    "- 축의 방향성을 표현할 때 axis로 표현할 수 있다.\n",
    "\n",
    "<img src=\"./images/numpy2.png\" width=\"500px\" style=\"margin-left: 10px\">"
   ]
  },
  {
   "cell_type": "markdown",
   "id": "a7f661ad-7438-4ece-8751-be7ce7fee573",
   "metadata": {},
   "source": [
    "#### arange(), zeros(), ones()\n",
    "- ndarray의 요소를 원하는 연속값, 0또는 1로 초기화 할 떄 사용한다."
   ]
  },
  {
   "cell_type": "code",
   "execution_count": 9,
   "id": "cdbcaa53-8fed-46bf-b3e2-9bf8de2d22c0",
   "metadata": {},
   "outputs": [
    {
     "name": "stdout",
     "output_type": "stream",
     "text": [
      "[0 1 2 3 4 5 6 7 8 9]\n",
      "int32\n",
      "(10,)\n",
      "[[0. 0. 0.]\n",
      " [0. 0. 0.]]\n",
      "float64\n",
      "(2, 3)\n",
      "[1 1 1]\n",
      "int16\n",
      "(3,)\n"
     ]
    }
   ],
   "source": [
    "# 0~9까지 1차원 ndarray\n",
    "ndarray1 = np.arange(0,10)\n",
    "print(ndarray1)\n",
    "print(ndarray1.dtype)\n",
    "print(ndarray1.shape)\n",
    "\n",
    "# 2행 3열 요소 모두 0으로 초기화\n",
    "ndarray2 = np.zeros((2,3))\n",
    "print(ndarray2)\n",
    "print(ndarray2.dtype)\n",
    "print(ndarray2.shape)\n",
    "\n",
    "# 1차원 3칸배욜 요소 모두 1로 초기화\n",
    "# ndarray3 = np.ones(3)으로 전달도 가능\n",
    "ndarray3 = np.ones((3,), dtype=np.int16)\n",
    "print(ndarray3)\n",
    "print(ndarray3.dtype)\n",
    "print(ndarray3.shape)"
   ]
  },
  {
   "cell_type": "markdown",
   "id": "c8b38f3d-00c7-4f94-8bd7-3e59248af9d1",
   "metadata": {},
   "source": [
    "#### reshape()\n",
    "- ndarray의 기존 shape를 다른 shape로 변경한다.\n"
   ]
  },
  {
   "cell_type": "code",
   "execution_count": 10,
   "id": "40bad032-4c46-4f74-be85-668f6d55804a",
   "metadata": {},
   "outputs": [
    {
     "name": "stdout",
     "output_type": "stream",
     "text": [
      "(8,)\n",
      "[0 1 2 3 4 5 6 7]\n",
      "==============================\n",
      "(2, 4)\n",
      "[[0 1 2 3]\n",
      " [4 5 6 7]]\n",
      "==============================\n",
      "(4, 2)\n",
      "[[0 1]\n",
      " [2 3]\n",
      " [4 5]\n",
      " [6 7]]\n",
      "==============================\n",
      "(8, 1)\n",
      "[[0]\n",
      " [1]\n",
      " [2]\n",
      " [3]\n",
      " [4]\n",
      " [5]\n",
      " [6]\n",
      " [7]]\n",
      "==============================\n"
     ]
    }
   ],
   "source": [
    "ndarray1 = np.arange(8)\n",
    "print(ndarray1.shape)\n",
    "print(ndarray1)\n",
    "\n",
    "print('='*30)\n",
    "\n",
    "ndarray2 = ndarray1.reshape((2,4))\n",
    "print(ndarray2.shape)\n",
    "print(ndarray2)\n",
    "\n",
    "print('='*30)\n",
    "\n",
    "# 첫번째에 -1을 쓰면 행을 열 기준으로 자동으로 나누어서 들어가진다.\n",
    "ndarray2 = ndarray1.reshape((-1,2))\n",
    "print(ndarray2.shape)\n",
    "print(ndarray2)\n",
    "\n",
    "print('='*30)\n",
    "\n",
    "# 두번째에 -1을 쓰면 열을 행 기준으로 자동으로 나누어서 들어가진다.\n",
    "ndarray2 = ndarray1.reshape((8,-1))\n",
    "print(ndarray2.shape)\n",
    "print(ndarray2)\n",
    "\n",
    "print('='*30)"
   ]
  },
  {
   "cell_type": "markdown",
   "id": "084a36c7-4b62-44d5-b316-862b4bcd74e5",
   "metadata": {},
   "source": [
    "#### Indexing\n",
    "- 특정 위치의 데이터를 가져오는 것\n",
    "- 위치 인덱싱(Location indexing)\n",
    "- 슬라이싱(Slicing)\n",
    "- 팬시 인덱싱(Fancy indexing)\n",
    "- 불린 인덱싱(Boolean indexing)"
   ]
  },
  {
   "cell_type": "code",
   "execution_count": 11,
   "id": "42ab9010-3614-4209-841c-ec7352834e14",
   "metadata": {},
   "outputs": [
    {
     "name": "stdout",
     "output_type": "stream",
     "text": [
      "4 <class 'numpy.int32'>\n",
      "10 <class 'numpy.int32'>\n",
      "[  2   3   4   5   6   7   8   9 100]\n",
      "9 <class 'numpy.int32'>\n"
     ]
    }
   ],
   "source": [
    "# 1차원 위치 인덱싱: 전달한 위치(인덱스) 값 한개 추출\n",
    "\n",
    "# 2~10까지 순서대로 요소를 갖는 1차원 ndarray\n",
    "\n",
    "ndarray1 = np.arange(start=2,stop=11)\n",
    "\n",
    "data = ndarray1[2]\n",
    "print(data, type(data))\n",
    "data = ndarray1[-1]\n",
    "print(data, type(data))\n",
    "\n",
    "ndarray1[-1] = 100\n",
    "print(ndarray1)\n",
    "\n",
    "# 9가져오기\n",
    "data = ndarray1[-2]\n",
    "print(data,type(data))"
   ]
  },
  {
   "cell_type": "code",
   "execution_count": 12,
   "id": "0a14a2a0-4435-4a8c-8f5d-cd56c0b4a582",
   "metadata": {},
   "outputs": [
    {
     "name": "stdout",
     "output_type": "stream",
     "text": [
      "[[1 2 3]\n",
      " [4 5 6]\n",
      " [7 8 9]]\n",
      "4\n",
      "5\n",
      "[1 2 3] <class 'numpy.ndarray'>\n"
     ]
    }
   ],
   "source": [
    "#2차원 위치 인덱싱\n",
    "# 1부터 9까지 1차원 ndarray생성\n",
    "# 2차원 3행으로 변경\n",
    "\n",
    "ndarray1 = np.arange(start=1, stop=10)\n",
    "ndarray2 = ndarray1.reshape((3,-1))\n",
    "print(ndarray2)\n",
    "print(ndarray2[1,0])\n",
    "print(ndarray2[1,1])\n",
    "print(ndarray2[0],type(ndarray2[0]))\n"
   ]
  },
  {
   "cell_type": "code",
   "execution_count": 13,
   "id": "5c4b6caf-dcb4-459e-8f39-a0a8e0dbd05c",
   "metadata": {},
   "outputs": [
    {
     "name": "stdout",
     "output_type": "stream",
     "text": [
      "[2 4 6 8]\n",
      "[2 4 6]\n",
      "[2 4 6 8]\n",
      "[2 4 6] 8\n"
     ]
    }
   ],
   "source": [
    "# 1차원 슬라이싱: 시작위치와 종료 위치에 해당하는 ndarray를 추출\n",
    "\n",
    "ndarray1= np.arange(start=2, stop=10,step=2)\n",
    "print(ndarray1)\n",
    "\n",
    "print(ndarray1[:3])\n",
    "print(ndarray1[:])\n",
    "print(ndarray1[:-1], ndarray1[-1])"
   ]
  },
  {
   "cell_type": "code",
   "execution_count": 14,
   "id": "c06513c2-3bf5-47ea-8075-99e096c8aa2b",
   "metadata": {},
   "outputs": [
    {
     "name": "stdout",
     "output_type": "stream",
     "text": [
      "[ 1  2  3  4  5  6  7  8  9 10 11 12 13 14 15 16 17 18 19 20 21 22 23 24\n",
      " 25 26 27]\n",
      "==============================\n",
      "[[ 1  2  3]\n",
      " [ 4  5  6]\n",
      " [ 7  8  9]\n",
      " [10 11 12]\n",
      " [13 14 15]\n",
      " [16 17 18]\n",
      " [19 20 21]\n",
      " [22 23 24]\n",
      " [25 26 27]]\n",
      "[[1 2]\n",
      " [4 5]\n",
      " [7 8]]\n",
      "==============================\n",
      "[[13 14 15]\n",
      " [16 17 18]\n",
      " [19 20 21]\n",
      " [22 23 24]\n",
      " [25 26 27]]\n",
      "==============================\n",
      "[[25 26 27]\n",
      " [22 23 24]\n",
      " [19 20 21]\n",
      " [16 17 18]\n",
      " [13 14 15]\n",
      " [10 11 12]\n",
      " [ 7  8  9]\n",
      " [ 4  5  6]\n",
      " [ 1  2  3]]\n",
      "==============================\n",
      "[[27 26 25]\n",
      " [24 23 22]\n",
      " [21 20 19]\n",
      " [18 17 16]\n",
      " [15 14 13]\n",
      " [12 11 10]\n",
      " [ 9  8  7]\n",
      " [ 6  5  4]\n",
      " [ 3  2  1]]\n"
     ]
    }
   ],
   "source": [
    "# 2차원 슬라이싱: 시작위치와 종료 위치에 해당하는 ndarray를 추출\n",
    "ndarray1= np.arange(start=1, stop=28)\n",
    "print(ndarray1)\n",
    "\n",
    "print('='*30)\n",
    "ndarray2= ndarray1.reshape((-1 , 3))\n",
    "print(ndarray2)\n",
    "print(ndarray2[:3,:2])\n",
    "\n",
    "print('='*30)\n",
    "print(ndarray2[4:9])\n",
    "\n",
    "print('='*30)\n",
    "print(ndarray2[::-1])\n",
    "\n",
    "print('='*30)\n",
    "print(ndarray2[::-1,::-1])"
   ]
  },
  {
   "cell_type": "code",
   "execution_count": 15,
   "id": "80d733a7-3420-4804-84a6-2e829caa2dd9",
   "metadata": {},
   "outputs": [
    {
     "name": "stdout",
     "output_type": "stream",
     "text": [
      "[[ 1  2  3  4  5]\n",
      " [ 6  7  8  9 10]\n",
      " [11 12 13 14 15]\n",
      " [16 17 18 19 20]]\n",
      "==============================\n"
     ]
    },
    {
     "data": {
      "text/plain": [
       "array([[ 3,  4,  5],\n",
       "       [ 8,  9, 10],\n",
       "       [18, 19, 20]])"
      ]
     },
     "execution_count": 15,
     "metadata": {},
     "output_type": "execute_result"
    }
   ],
   "source": [
    "# 팬시 인덱싱 : list를 전달해서 한번에 여러 요소를 추출\n",
    "\n",
    "ndarray1 = np.arange(start=1,stop=21)\n",
    "ndarray2 = ndarray1.reshape((4,-1))\n",
    "print(ndarray2)\n",
    "print('='*30)\n",
    "\n",
    "ndarray2[[0,1,3], 2:5]\n"
   ]
  },
  {
   "cell_type": "code",
   "execution_count": 16,
   "id": "7c3ef657-3d09-402a-9de3-ac1059681818",
   "metadata": {},
   "outputs": [
    {
     "name": "stdout",
     "output_type": "stream",
     "text": [
      "[ 10  25  40  55  70  85 100]\n"
     ]
    }
   ],
   "source": [
    "# 불린 인덱싱: True인 위치의 ndarray 추출\n",
    "\n",
    "ndarray1 = np.arange(start=1,stop=101,step=3)\n",
    "print(ndarray1[ndarray1 % 5 == 0])"
   ]
  },
  {
   "cell_type": "markdown",
   "id": "6122e3d6-f9f8-4cb4-a625-6e620b8b204c",
   "metadata": {},
   "source": [
    "#### Sorting\n",
    "- 모두 오름차순 정렬이며, 내림차순 정렬은 오름차순 정렬 후[::-1]를 붙여 사용한다."
   ]
  },
  {
   "cell_type": "code",
   "execution_count": 17,
   "id": "ce76fed4-ab65-41fa-84fd-411768246980",
   "metadata": {},
   "outputs": [
    {
     "name": "stdout",
     "output_type": "stream",
     "text": [
      "원본 배열: [0 4 2 5]\n",
      "오름차순 배열: [0 2 4 5]\n",
      "내림차순 배열: [5 4 2 0]\n"
     ]
    }
   ],
   "source": [
    "# np.sort(ndarray)\n",
    "\n",
    "original_ndarray = np.array([0,4,2,5])\n",
    "sorted_ndarray = np.sort(original_ndarray)\n",
    "\n",
    "print(f'원본 배열: {original_ndarray}')\n",
    "print(f'오름차순 배열: {sorted_ndarray}')\n",
    "print(f'내림차순 배열: {sorted_ndarray[::-1]}')\n"
   ]
  },
  {
   "cell_type": "code",
   "execution_count": 18,
   "id": "4be753c0-6ff7-4f44-a6d1-7541c450f60c",
   "metadata": {
    "scrolled": true
   },
   "outputs": [
    {
     "name": "stdout",
     "output_type": "stream",
     "text": [
      "[20 18 16 14 12 10  8  6  4  2]\n",
      "원본\n",
      " [[20 18 16 14 12]\n",
      " [10  8  6  4  2]]\n",
      "axis=0 정렬 \n",
      " [[10  8  6  4  2]\n",
      " [20 18 16 14 12]]\n",
      "axis=1 정렬 \n",
      " [[12 14 16 18 20]\n",
      " [ 2  4  6  8 10]]\n"
     ]
    }
   ],
   "source": [
    "# np.sort(ndarray, axis=n)\n",
    "\n",
    "ndarray1 = np.array([i for  i in range(20,0,-2)])\n",
    "print(ndarray1)\n",
    "\n",
    "ndarray2 = ndarray1.reshape((2,-1))\n",
    "print(f'원본\\n {ndarray2}')\n",
    "\n",
    "sorted_ndarray_axis0 = np.sort(ndarray2, axis=0)\n",
    "print(f'axis=0 정렬 \\n {sorted_ndarray_axis0}')\n",
    "\n",
    "sorted_ndarray_axis0 = np.sort(ndarray2, axis=1)\n",
    "print(f'axis=1 정렬 \\n {sorted_ndarray_axis0}')"
   ]
  },
  {
   "cell_type": "code",
   "execution_count": 19,
   "id": "3c0080b0-8c33-45a9-94f0-87c8e587b7b6",
   "metadata": {},
   "outputs": [
    {
     "name": "stdout",
     "output_type": "stream",
     "text": [
      "정렬 후 원본 인덱스: [0 2 1 3]\n",
      "오름차순으로 정렬된 ndarray: [0 2 3 6]\n"
     ]
    }
   ],
   "source": [
    "# np.argsort(ndarray)\n",
    "\n",
    "original_ndarray = np.array([0, 3, 2, 6])\n",
    "sorted_indices = np.argsort(original_ndarray)\n",
    "print(f\"정렬 후 원본 인덱스: {sorted_indices}\")\n",
    "\n",
    "sorted_ndarray = original_ndarray[sorted_indices]\n",
    "print(f\"오름차순으로 정렬된 ndarray: {sorted_ndarray}\")"
   ]
  },
  {
   "cell_type": "code",
   "execution_count": 20,
   "id": "d4e20262-cec7-4d11-aa3f-b9249f026cd5",
   "metadata": {},
   "outputs": [
    {
     "name": "stdout",
     "output_type": "stream",
     "text": [
      "['Lamborghini' 'Mclaren' 'Bentley' 'Benz' 'The New Morning']\n"
     ]
    }
   ],
   "source": [
    "# 제로백이 빠른 순으로 자동차 이름 전달하기\n",
    "\n",
    "cars = np.array(['Lamborghini', 'Mclaren', 'Benz', 'Bentley', 'The New Morning'])\n",
    "zero100 = np.array([2.8, 2.9, 5.2, 3.7, 13.5])\n",
    "\n",
    "sorted_cars = cars[zero100.argsort()]\n",
    "print(sorted_cars)"
   ]
  },
  {
   "cell_type": "markdown",
   "id": "a5ea61b2-ad4c-4cf3-9d07-4e04541ce16e",
   "metadata": {},
   "source": [
    "### 벡터\n",
    "- 데이터 과학에서 벡터란 숫자 자료를 나열한 것을 의미한다.\n",
    "- 벡터는 공간에서 한 점을 나타낸다.\n",
    "- feature 1개당 1차원이고, feature가 3개면 3차원이다.\n",
    "- 이때, 1차원 좌표 평면에서는 열벡터를 표현할 수 있으며, 2차원 좌표 평면에서는 2열 데이터를 표현할 수 있다."
   ]
  },
  {
   "cell_type": "markdown",
   "id": "8e388c28-ffc7-4566-bfdf-697917e1e4a0",
   "metadata": {},
   "source": [
    "#### 내적(Dot Product)\n",
    "- 두 벡터의 성분들의 곱의 합\n",
    "\n",
    "<img src=\"./images/dot_product.png\" width=\"500px\" style=\"margin-left:0\">"
   ]
  },
  {
   "cell_type": "markdown",
   "id": "e53fb06a-a39c-4063-8ca2-22aa7dacccb4",
   "metadata": {},
   "source": [
    "#### 선형대수 (Linear Algebra)\n",
    "- 선형 방정식을 풀기위해서 배우는 학문이다.\n",
    "- 4x = 16일 경우, 좌항의 4를 우항으로 넘겨서 x라는 것을 구할 수 있고, 방정식 1갬만으로 해를 구할 수 있다.\n",
    "- y=2x+5일 경우, 미지수가 2개이기 떄무에 방정식이 2개 필요하다.\n",
    "- 이러한 연립방정식을 표현할 때 쉽게 표현하기 위해서 선형대수를 배운다."
   ]
  },
  {
   "cell_type": "code",
   "execution_count": 23,
   "id": "87f7fc48-73d4-4e3b-a019-ffe29607f7da",
   "metadata": {},
   "outputs": [
    {
     "name": "stdout",
     "output_type": "stream",
     "text": [
      "[[1 2]\n",
      " [3 4]]\n",
      "[[5]\n",
      " [6]]\n"
     ]
    },
    {
     "data": {
      "text/plain": [
       "array([[17],\n",
       "       [39]])"
      ]
     },
     "execution_count": 23,
     "metadata": {},
     "output_type": "execute_result"
    }
   ],
   "source": [
    "A = np.array([1,2,3,4]).reshape((2,2))\n",
    "w = np.array([5,6]).reshape((2,1))\n",
    "\n",
    "print(A,w,sep='\\n')\n",
    "\n",
    "print(np.dot(A,w))"
   ]
  },
  {
   "cell_type": "code",
   "execution_count": 25,
   "id": "7e1e3a75-e767-497c-8c98-4b3a1958937c",
   "metadata": {},
   "outputs": [
    {
     "name": "stdout",
     "output_type": "stream",
     "text": [
      "[[8.]\n",
      " [2.]]\n"
     ]
    }
   ],
   "source": [
    "# x + y = 10\n",
    "# 2x + -3y = 10\n",
    "\n",
    "# Aw =  k\n",
    "\n",
    "A = np.array([[1,1],[2,-3]])\n",
    "k = np.array([[10,10]]).T\n",
    "\n",
    "w = np.dot(np.linalg.inv(A),k)\n",
    "print(w)"
   ]
  },
  {
   "cell_type": "code",
   "execution_count": 30,
   "id": "e92c145b-f25a-40cc-92b1-161211e0e1d2",
   "metadata": {},
   "outputs": [
    {
     "name": "stdout",
     "output_type": "stream",
     "text": [
      "[[ 8.]\n",
      " [-2.]\n",
      " [-1.]]\n"
     ]
    }
   ],
   "source": [
    "# x + 2y + 3z = 1\n",
    "# x + 2y + z = 3\n",
    "# x + 3z = 5\n",
    "\n",
    "A = np.array([[1, 2, 3],[1, 2, 1],[1, 0, 3]])\n",
    "k = np.array([[1, 3, 5]]).T\n",
    "w = np.dot(np.linalg.inv(A),k)\n",
    "print(w)"
   ]
  },
  {
   "cell_type": "markdown",
   "id": "38b40b53-ecf2-436f-bec7-9f41dff0befa",
   "metadata": {},
   "source": [
    "#### 과결정계 (Overdetermined system)\n",
    "- 미지수보다 많은 방정식이 있는 연립방정식으로서 보통해가 존재하지 않는다.\n",
    "- 3차원 공간에 존재하는 2차원 평면에서 3차원 공간의 해를 구할 수 없기 떄문에, 3차원을 2차원으로 축소해야하고,\n",
    "  이때 투영이 필요하다.\n",
    "- 투영시, 원본 값에서 어느정도의 loss(손실)가 발생하지만 이를 감안하고 근사값을 구한다. "
   ]
  },
  {
   "cell_type": "code",
   "execution_count": null,
   "id": "8e94dcc9-9082-4fc5-9098-54c467686745",
   "metadata": {},
   "outputs": [],
   "source": []
  },
  {
   "cell_type": "code",
   "execution_count": null,
   "id": "f920b029-a59e-4e1e-9490-04dfd9734a1d",
   "metadata": {},
   "outputs": [],
   "source": []
  }
 ],
 "metadata": {
  "kernelspec": {
   "display_name": "Python 3 (ipykernel)",
   "language": "python",
   "name": "python3"
  },
  "language_info": {
   "codemirror_mode": {
    "name": "ipython",
    "version": 3
   },
   "file_extension": ".py",
   "mimetype": "text/x-python",
   "name": "python",
   "nbconvert_exporter": "python",
   "pygments_lexer": "ipython3",
   "version": "3.11.8"
  }
 },
 "nbformat": 4,
 "nbformat_minor": 5
}
